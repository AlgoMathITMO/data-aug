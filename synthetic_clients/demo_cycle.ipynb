{
 "cells": [
  {
   "cell_type": "code",
   "execution_count": 1,
   "metadata": {},
   "outputs": [],
   "source": [
    "import pandas as pd\n",
    "import numpy as np\n",
    "\n",
    "from simulator.utils import pandas_to_spark\n",
    "\n",
    "class RLModel:\n",
    "    def __init__(self):\n",
    "        pass\n",
    "\n",
    "    def fit(self, log, user_features, item_features):\n",
    "        print('fitted')\n",
    "\n",
    "    def predict(self, log, user_features, item_features):\n",
    "        user_features = user_features.toPandas()\n",
    "        item_features = item_features.toPandas()\n",
    "        return pandas_to_spark(\n",
    "            pd.DataFrame(\n",
    "                {'user_id' : np.random.choice(user_features.user_id.values, 30),\n",
    "                 'item_id' : np.random.choice(item_features.item_id.values, 30),\n",
    "                 'relevance' : np.random.uniform(0, 1, size=30)}\n",
    "            )\n",
    "        )\n",
    "\n",
    "    def update_weights(self, resps):\n",
    "        print('updated')"
   ]
  },
  {
   "cell_type": "code",
   "execution_count": 2,
   "metadata": {},
   "outputs": [
    {
     "name": "stderr",
     "output_type": "stream",
     "text": [
      "/data/home/anthony/.conda/envs/simulator/lib/python3.9/site-packages/tqdm/auto.py:22: TqdmWarning: IProgress not found. Please update jupyter and ipywidgets. See https://ipywidgets.readthedocs.io/en/stable/user_install.html\n",
      "  from .autonotebook import tqdm as notebook_tqdm\n",
      "2022-05-26 09:19:38.930154: I tensorflow/core/platform/cpu_feature_guard.cc:193] This TensorFlow binary is optimized with oneAPI Deep Neural Network Library (oneDNN) to use the following CPU instructions in performance-critical operations:  AVX2 FMA\n",
      "To enable them in other operations, rebuild TensorFlow with the appropriate compiler flags.\n",
      "2022-05-26 09:19:50.792331: I tensorflow/core/common_runtime/gpu/gpu_device.cc:1532] Created device /job:localhost/replica:0/task:0/device:GPU:0 with 19544 MB memory:  -> device: 0, name: A100-SXM4-40GB, pci bus id: 0000:07:00.0, compute capability: 8.0\n",
      "2022-05-26 09:19:50.794692: I tensorflow/core/common_runtime/gpu/gpu_device.cc:1532] Created device /job:localhost/replica:0/task:0/device:GPU:1 with 26870 MB memory:  -> device: 1, name: A100-SXM4-40GB, pci bus id: 0000:0f:00.0, compute capability: 8.0\n",
      "22/05/26 09:19:56 WARN NativeCodeLoader: Unable to load native-hadoop library for your platform... using builtin-java classes where applicable\n",
      "Using Spark's default log4j profile: org/apache/spark/log4j-defaults.properties\n",
      "Setting default log level to \"WARN\".\n",
      "To adjust logging level use sc.setLogLevel(newLevel). For SparkR, use setLogLevel(newLevel).\n",
      "22/05/26 09:19:57 WARN Utils: Service 'SparkUI' could not bind on port 4040. Attempting port 4041.\n",
      "22/05/26 09:20:00 WARN package: Truncated the string representation of a plan since it was too large. This behavior can be adjusted by setting 'spark.sql.debug.maxToStringFields'.\n",
      "                                                                                \r"
     ]
    },
    {
     "name": "stdout",
     "output_type": "stream",
     "text": [
      "05-26 09:20:04 I deeptables.m.deeptable.py 685 - Perform prediction...\n",
      "05-26 09:20:04 I deeptables.m.preprocessor.py 242 - Transform [X]...\n",
      "05-26 09:20:04 I deeptables.m.preprocessor.py 249 - transform_X taken 0.0720219612121582s\n",
      "05-26 09:20:04 I deeptables.m.deepmodel.py 130 - Performing predictions...\n",
      "05-26 09:20:04 I deeptables.u.dataset_generator.py 240 - create dataset generator with _TFDGForPandas, batch_size=128, shuffle=False, drop_remainder=False\n",
      "05-26 09:20:06 I deeptables.m.deeptable.py 559 - predict_proba taken 2.0130977630615234s\n",
      "05-26 09:20:06 I deeptables.m.deeptable.py 594 - Reverse indicators to labels.\n",
      "fitted\n"
     ]
    },
    {
     "name": "stderr",
     "output_type": "stream",
     "text": [
      "2022-05-26 09:20:06.225862: I tensorflow/stream_executor/cuda/cuda_blas.cc:1786] TensorFloat-32 will be used for the matrix multiplication. This will only be logged once.\n"
     ]
    }
   ],
   "source": [
    "from simulator.modules import Simulator, Generator, ResponseHeuristic\n",
    "\n",
    "gen = Generator.load('models/demo')\n",
    "\n",
    "sim = Simulator(generator=gen)\n",
    "sim.init(\n",
    "    num_users=100,\n",
    "    num_items=10,\n",
    "    user_key_col='user_id',\n",
    "    item_key_col='item_id'\n",
    ")\n",
    "\n",
    "model = RLModel()\n",
    "\n",
    "users = sim.sample_users(-1, -1)\n",
    "\n",
    "train_log, train_users, train_items = sim.get_train_log(users, True, True)\n",
    "model.fit(train_log, train_users, train_items)"
   ]
  },
  {
   "cell_type": "code",
   "execution_count": 3,
   "metadata": {},
   "outputs": [
    {
     "name": "stderr",
     "output_type": "stream",
     "text": [
      "                                                                                \r"
     ]
    },
    {
     "name": "stdout",
     "output_type": "stream",
     "text": [
      "05-26 09:24:29 I deeptables.m.deeptable.py 685 - Perform prediction...\n",
      "05-26 09:24:29 I deeptables.m.preprocessor.py 242 - Transform [X]...\n",
      "05-26 09:24:29 I deeptables.m.preprocessor.py 249 - transform_X taken 0.0699923038482666s\n",
      "05-26 09:24:29 I deeptables.m.deepmodel.py 130 - Performing predictions...\n",
      "05-26 09:24:29 I deeptables.u.dataset_generator.py 240 - create dataset generator with _TFDGForPandas, batch_size=128, shuffle=False, drop_remainder=False\n"
     ]
    },
    {
     "name": "stderr",
     "output_type": "stream",
     "text": [
      "                                                                                \r"
     ]
    },
    {
     "name": "stdout",
     "output_type": "stream",
     "text": [
      "05-26 09:24:29 I deeptables.m.deeptable.py 559 - predict_proba taken 0.15199041366577148s\n",
      "05-26 09:24:29 I deeptables.m.deeptable.py 594 - Reverse indicators to labels.\n",
      "updated\n",
      "05-26 09:24:31 I deeptables.m.deeptable.py 685 - Perform prediction...\n",
      "05-26 09:24:31 I deeptables.m.preprocessor.py 242 - Transform [X]...\n",
      "05-26 09:24:31 I deeptables.m.preprocessor.py 249 - transform_X taken 0.07015562057495117s\n",
      "05-26 09:24:31 I deeptables.m.deepmodel.py 130 - Performing predictions...\n",
      "05-26 09:24:31 I deeptables.u.dataset_generator.py 240 - create dataset generator with _TFDGForPandas, batch_size=128, shuffle=False, drop_remainder=False\n",
      "05-26 09:24:31 I deeptables.m.deeptable.py 559 - predict_proba taken 0.17482209205627441s\n",
      "05-26 09:24:31 I deeptables.m.deeptable.py 594 - Reverse indicators to labels.\n",
      "updated\n"
     ]
    },
    {
     "name": "stderr",
     "output_type": "stream",
     "text": [
      "                                                                                \r"
     ]
    },
    {
     "name": "stdout",
     "output_type": "stream",
     "text": [
      "05-26 09:24:33 I deeptables.m.deeptable.py 685 - Perform prediction...\n",
      "05-26 09:24:33 I deeptables.m.preprocessor.py 242 - Transform [X]...\n",
      "05-26 09:24:33 I deeptables.m.preprocessor.py 249 - transform_X taken 0.07027411460876465s\n",
      "05-26 09:24:33 I deeptables.m.deepmodel.py 130 - Performing predictions...\n",
      "05-26 09:24:33 I deeptables.u.dataset_generator.py 240 - create dataset generator with _TFDGForPandas, batch_size=128, shuffle=False, drop_remainder=False\n",
      "05-26 09:24:33 I deeptables.m.deeptable.py 559 - predict_proba taken 0.1635758876800537s\n",
      "05-26 09:24:33 I deeptables.m.deeptable.py 594 - Reverse indicators to labels.\n",
      "updated\n"
     ]
    },
    {
     "name": "stderr",
     "output_type": "stream",
     "text": [
      "                                                                                \r"
     ]
    },
    {
     "name": "stdout",
     "output_type": "stream",
     "text": [
      "05-26 09:24:35 I deeptables.m.deeptable.py 685 - Perform prediction...\n",
      "05-26 09:24:35 I deeptables.m.preprocessor.py 242 - Transform [X]...\n",
      "05-26 09:24:35 I deeptables.m.preprocessor.py 249 - transform_X taken 0.07311630249023438s\n",
      "05-26 09:24:35 I deeptables.m.deepmodel.py 130 - Performing predictions...\n",
      "05-26 09:24:35 I deeptables.u.dataset_generator.py 240 - create dataset generator with _TFDGForPandas, batch_size=128, shuffle=False, drop_remainder=False\n",
      "05-26 09:24:35 I deeptables.m.deeptable.py 559 - predict_proba taken 0.1604151725769043s\n",
      "05-26 09:24:35 I deeptables.m.deeptable.py 594 - Reverse indicators to labels.\n",
      "updated\n",
      "05-26 09:24:37 I deeptables.m.deeptable.py 685 - Perform prediction...\n",
      "05-26 09:24:37 I deeptables.m.preprocessor.py 242 - Transform [X]...\n",
      "05-26 09:24:37 I deeptables.m.preprocessor.py 249 - transform_X taken 0.06982803344726562s\n",
      "05-26 09:24:37 I deeptables.m.deepmodel.py 130 - Performing predictions...\n",
      "05-26 09:24:37 I deeptables.u.dataset_generator.py 240 - create dataset generator with _TFDGForPandas, batch_size=128, shuffle=False, drop_remainder=False\n",
      "05-26 09:24:37 I deeptables.m.deeptable.py 559 - predict_proba taken 0.1802685260772705s\n",
      "05-26 09:24:37 I deeptables.m.deeptable.py 594 - Reverse indicators to labels.\n",
      "updated\n",
      "05-26 09:24:39 I deeptables.m.deeptable.py 685 - Perform prediction...\n",
      "05-26 09:24:39 I deeptables.m.preprocessor.py 242 - Transform [X]...\n",
      "05-26 09:24:39 I deeptables.m.preprocessor.py 249 - transform_X taken 0.06972122192382812s\n",
      "05-26 09:24:39 I deeptables.m.deepmodel.py 130 - Performing predictions...\n",
      "05-26 09:24:39 I deeptables.u.dataset_generator.py 240 - create dataset generator with _TFDGForPandas, batch_size=128, shuffle=False, drop_remainder=False\n",
      "05-26 09:24:39 I deeptables.m.deeptable.py 559 - predict_proba taken 0.16504216194152832s\n",
      "05-26 09:24:39 I deeptables.m.deeptable.py 594 - Reverse indicators to labels.\n",
      "updated\n",
      "05-26 09:24:41 I deeptables.m.deeptable.py 685 - Perform prediction...\n",
      "05-26 09:24:41 I deeptables.m.preprocessor.py 242 - Transform [X]...\n",
      "05-26 09:24:41 I deeptables.m.preprocessor.py 249 - transform_X taken 0.06970095634460449s\n",
      "05-26 09:24:41 I deeptables.m.deepmodel.py 130 - Performing predictions...\n",
      "05-26 09:24:41 I deeptables.u.dataset_generator.py 240 - create dataset generator with _TFDGForPandas, batch_size=128, shuffle=False, drop_remainder=False\n",
      "05-26 09:24:41 I deeptables.m.deeptable.py 559 - predict_proba taken 0.16063404083251953s\n",
      "05-26 09:24:41 I deeptables.m.deeptable.py 594 - Reverse indicators to labels.\n",
      "updated\n",
      "05-26 09:24:43 I deeptables.m.deeptable.py 685 - Perform prediction...\n",
      "05-26 09:24:43 I deeptables.m.preprocessor.py 242 - Transform [X]...\n",
      "05-26 09:24:43 I deeptables.m.preprocessor.py 249 - transform_X taken 0.06983351707458496s\n",
      "05-26 09:24:43 I deeptables.m.deepmodel.py 130 - Performing predictions...\n",
      "05-26 09:24:43 I deeptables.u.dataset_generator.py 240 - create dataset generator with _TFDGForPandas, batch_size=128, shuffle=False, drop_remainder=False\n",
      "05-26 09:24:43 I deeptables.m.deeptable.py 559 - predict_proba taken 0.17569422721862793s\n",
      "05-26 09:24:43 I deeptables.m.deeptable.py 594 - Reverse indicators to labels.\n",
      "updated\n",
      "05-26 09:24:45 I deeptables.m.deeptable.py 685 - Perform prediction...\n",
      "05-26 09:24:45 I deeptables.m.preprocessor.py 242 - Transform [X]...\n",
      "05-26 09:24:45 I deeptables.m.preprocessor.py 249 - transform_X taken 0.07277774810791016s\n",
      "05-26 09:24:45 I deeptables.m.deepmodel.py 130 - Performing predictions...\n",
      "05-26 09:24:45 I deeptables.u.dataset_generator.py 240 - create dataset generator with _TFDGForPandas, batch_size=128, shuffle=False, drop_remainder=False\n",
      "05-26 09:24:45 I deeptables.m.deeptable.py 559 - predict_proba taken 0.16004562377929688s\n",
      "05-26 09:24:45 I deeptables.m.deeptable.py 594 - Reverse indicators to labels.\n",
      "updated\n",
      "05-26 09:24:47 I deeptables.m.deeptable.py 685 - Perform prediction...\n",
      "05-26 09:24:47 I deeptables.m.preprocessor.py 242 - Transform [X]...\n",
      "05-26 09:24:47 I deeptables.m.preprocessor.py 249 - transform_X taken 0.06970071792602539s\n",
      "05-26 09:24:47 I deeptables.m.deepmodel.py 130 - Performing predictions...\n",
      "05-26 09:24:47 I deeptables.u.dataset_generator.py 240 - create dataset generator with _TFDGForPandas, batch_size=128, shuffle=False, drop_remainder=False\n",
      "05-26 09:24:47 I deeptables.m.deeptable.py 559 - predict_proba taken 0.1626598834991455s\n",
      "05-26 09:24:47 I deeptables.m.deeptable.py 594 - Reverse indicators to labels.\n",
      "updated\n"
     ]
    }
   ],
   "source": [
    "def zero_resp(a, b):\n",
    "    return np.zeros(len(a))\n",
    "\n",
    "r = ResponseHeuristic(heuristic_func=zero_resp)\n",
    "\n",
    "for i in range(10):\n",
    "    inf_users = sim.sample_users(10)\n",
    "    l, u, i = sim.get_user_items(inf_users, -1, -1)\n",
    "\n",
    "    recs = model.predict(l, u, i)\n",
    "    \n",
    "    resps = sim.sample_responses(recs, 0.0, 1.0, 0.0, r, 0.8)\n",
    "\n",
    "    model.update_weights(resps)"
   ]
  },
  {
   "cell_type": "code",
   "execution_count": null,
   "metadata": {},
   "outputs": [],
   "source": []
  },
  {
   "cell_type": "code",
   "execution_count": null,
   "metadata": {},
   "outputs": [],
   "source": []
  }
 ],
 "metadata": {
  "interpreter": {
   "hash": "0c23ac1ac3d03469769ffca4283c7852312778d94b2cbd9b1a60eeafc1c4055f"
  },
  "kernelspec": {
   "display_name": "Python 3.9.12 ('simulator')",
   "language": "python",
   "name": "python3"
  },
  "language_info": {
   "codemirror_mode": {
    "name": "ipython",
    "version": 3
   },
   "file_extension": ".py",
   "mimetype": "text/x-python",
   "name": "python",
   "nbconvert_exporter": "python",
   "pygments_lexer": "ipython3",
   "version": "3.9.12"
  },
  "orig_nbformat": 4
 },
 "nbformat": 4,
 "nbformat_minor": 2
}
